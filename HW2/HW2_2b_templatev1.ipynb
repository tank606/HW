{
 "cells": [
  {
   "cell_type": "code",
   "execution_count": 39,
   "metadata": {},
   "outputs": [],
   "source": [
    "import tensorflow as tf\n",
    "import pickle\n",
    "import numpy as np\n",
    "import time\n",
    "import load_cifar\n",
    "import os\n",
    "os.environ[\"CUDA_VISIBLE_DEVICES\"]=\"2\""
   ]
  },
  {
   "cell_type": "code",
   "execution_count": 40,
   "metadata": {},
   "outputs": [],
   "source": [
    "tf.reset_default_graph()"
   ]
  },
  {
   "cell_type": "markdown",
   "metadata": {},
   "source": [
    "<h1>Define Hyper-perparmeter</h1>"
   ]
  },
  {
   "cell_type": "code",
   "execution_count": 41,
   "metadata": {},
   "outputs": [],
   "source": [
    "num_classes = 10\n",
    "num_features = 3072\n",
    "num_output = 10\n",
    "n_hidden_1 = 1000\n",
    "n_hidden_2 = 500\n",
    "n_hidden_3 = 250\n",
    "n_hidden_4 = 100\n",
    "n_hidden_5 = 50\n",
    "n_hidden_6 = 20\n",
    "lr = 0.001\n",
    "batch_size = 32\n",
    "epochs = 50\n",
    "dropout_prob = 0.3"
   ]
  },
  {
   "cell_type": "markdown",
   "metadata": {},
   "source": [
    "<h1>Define Placeholder</h1>"
   ]
  },
  {
   "cell_type": "code",
   "execution_count": 44,
   "metadata": {},
   "outputs": [],
   "source": [
    "# Placeholders for the input data\n",
    "X = tf.placeholder('float32',shape =(None,num_features),name=\"X\")\n",
    "Y = tf.placeholder('float32',shape = (None,num_classes),name=\"Y\")\n",
    "## for dropout layer\n",
    "# keep_prob = tf.placeholder(tf.float32)\n",
    "## Weights initialized by random normal function with std_dev = 1/sqrt(number of input features)\n",
    "#Layers weight & bias"
   ]
  },
  {
   "cell_type": "markdown",
   "metadata": {},
   "source": [
    "<h1>Define Neural Network Architecture</h1>"
   ]
  },
  {
   "cell_type": "code",
   "execution_count": 45,
   "metadata": {},
   "outputs": [],
   "source": [
    "weights = {\n",
    "    'W1': tf.Variable(tf.random_normal([num_features, n_hidden_1],stddev=0.1),name='W1'),\n",
    "    'W2': tf.Variable(tf.random_normal([hidden_1, hidden_2],stddev=0.1),name='W2'),\n",
    "    'W3': tf.Variable(tf.random_normal([n_hidden_2, n_hidden_3],stddev=0.1), name='W3'),\n",
    "    'W4': tf.Variable(tf.random_normal([n_hidden_3, n_hidden_4],stddev=0.1), name='W4'),\n",
    "    'W5': tf.Variable(tf.random_normal([n_hidden_4, n_hidden_5],stddev=0.1), name='W5'),\n",
    "    'W6': tf.Variable(tf.random_normal([n_hidden_5, n_hidden_6],stddev=0.1), name='W6'),\n",
    "    'Wout': tf.Variable(tf.random_normal([n_hidden_6, num_classes],stddev=0.1),name='Wout')\n",
    "}\n",
    "\n",
    "biases = {\n",
    "    'b1': tf.Variable(tf.zeros(shape=[n_hidden_1]),name='b1'),\n",
    "    'b2': tf.Variable(tf.zeros(shape=[n_hidden_2]),name='b2'),\n",
    "    'b3': tf.Variable(tf.zeros(shape=[n_hidden_3]),name='b3'),\n",
    "    'b4': tf.Variable(tf.zeros(shape=[n_hidden_4]),name='b4'),\n",
    "    'b5': tf.Variable(tf.zeros(shape=[n_hidden_5]), name='b5'),\n",
    "    'b6': tf.Variable(tf.zeros(shape=[n_hidden_6]), name='b6'),\n",
    "    'bout': tf.Variable(tf.zeros(shape=[num_classes]),name='bout')\n",
    "}\n",
    "\n",
    "def neural_net(x):\n",
    "    layer_1_out = tf.nn.relu(tf.add(tf.matmul(x,weights['W1']),biases['b1']))\n",
    "    layer_2_out = tf.nn.relu(tf.add(tf.matmul(layer_1_out,weights['W2']),biases['b2']))\n",
    "    layer_3_out = tf.nn.relu(tf.add(tf.matmul(layer_2_out, weights['W3']), biases['b3']))\n",
    "    layer_4_out = tf.nn.relu(tf.add(tf.matmul(layer_3_out, weights['W4']), biases['b4']))\n",
    "    layer_5_out = tf.nn.relu(tf.add(tf.matmul(layer_4_out, weights['W5']), biases['b5']))\n",
    "    layer_6_out = tf.nn.relu(tf.add(tf.matmul(layer_5_out, weights['W6']), biases['b6']))\n",
    "    out = tf.add(tf.matmul(layer_6_out,weights['Wout']),biases['bout'])\n",
    "    return out\n",
    "\n",
    "#predicted labels\n",
    "logits = neural_net(X)\n",
    "Y_hat = tf.nn.softmax(logits)"
   ]
  },
  {
   "cell_type": "markdown",
   "metadata": {},
   "source": [
    "<h1>Define cost and optimization</h1>"
   ]
  },
  {
   "cell_type": "code",
   "execution_count": 46,
   "metadata": {},
   "outputs": [],
   "source": [
    "## Defining the loss function\n",
    "loss = tf.reduce_mean(tf.nn.softmax_cross_entropy_with_logits_v2(logits=logits,labels=Y))\n",
    "#define optimizer\n",
    "optimizer = tf.train.AdamOptimizer(learning_rate=lr)\n",
    "train_op = optimizer.minimize(loss)\n",
    "\n",
    "#compare the predicted labels with true labels\n",
    "correct_pred = tf.equal(tf.argmax(Y_hat,1),tf.argmax(Y,1))\n",
    "\n",
    "#compute the accuracy by taking average\n",
    "accuracy = tf.reduce_mean(tf.cast(correct_pred,tf.float32),name='accuracy')"
   ]
  },
  {
   "cell_type": "markdown",
   "metadata": {},
   "source": [
    "<h1>Training and testing</h1>\n",
    "<h2>1.Print out validation accuracy after each training poch</h2>\n",
    "<h2>2.Print out training time you spend on each epoch</h2>\n",
    "<h2>3.Print out testing accuracy in the end</h2>"
   ]
  },
  {
   "cell_type": "code",
   "execution_count": 47,
   "metadata": {},
   "outputs": [],
   "source": [
    "val_features, val_labels = pickle.load(open('vali_data.pickle','rb'))\n",
    "training_features,training_labels = pickle.load(open('train_data.pickle','rb'))\n",
    "test_features, test_labels = pickle.load(open('test_data.pickle','rb'))\n",
    "val_labels = np.squeeze(val_labels.todense())\n",
    "training_labels = np.squeeze(training_labels.todense())\n",
    "test_labels = np.squeeze(test_labels.todense())"
   ]
  },
  {
   "cell_type": "code",
   "execution_count": 48,
   "metadata": {},
   "outputs": [],
   "source": [
    "def next_batch(batch_size, data, labels):\n",
    "    idx = np.arange(0 , len(data))\n",
    "    np.random.shuffle(idx)\n",
    "    idx = idx[:batch_size]\n",
    "    data_shuffle = [data[i] for i in idx]\n",
    "    labels_shuffle = [labels[i] for i in idx]\n",
    "    data_shuffle = np.asarray(data_shuffle)\n",
    "    labels_shuffle = np.asarray(labels_shuffle)\n",
    "    labels_shuffle = np.squeeze(labels_shuffle)\n",
    "    return data_shuffle, labels_shuffle"
   ]
  },
  {
   "cell_type": "code",
   "execution_count": 49,
   "metadata": {},
   "outputs": [
    {
     "name": "stdout",
     "output_type": "stream",
     "text": [
      "epoch 1, loss: 1.903, acc: 0.375, acc_val:0.300, time: 6.309\t\n",
      "epoch 2, loss: 1.426, acc: 0.438, acc_val:0.350, time: 6.018\t\n",
      "epoch 3, loss: 1.590, acc: 0.375, acc_val:0.382, time: 5.702\t\n",
      "epoch 4, loss: 1.670, acc: 0.312, acc_val:0.429, time: 6.328\t\n",
      "epoch 5, loss: 1.550, acc: 0.406, acc_val:0.429, time: 5.933\t\n",
      "epoch 6, loss: 1.807, acc: 0.406, acc_val:0.452, time: 5.836\t\n",
      "epoch 7, loss: 1.274, acc: 0.562, acc_val:0.453, time: 6.141\t\n",
      "epoch 8, loss: 1.452, acc: 0.438, acc_val:0.439, time: 5.849\t\n",
      "epoch 9, loss: 1.355, acc: 0.469, acc_val:0.442, time: 6.275\t\n",
      "epoch 10, loss: 1.408, acc: 0.500, acc_val:0.466, time: 6.038\t\n",
      "epoch 11, loss: 1.468, acc: 0.469, acc_val:0.473, time: 5.559\t\n",
      "epoch 12, loss: 1.551, acc: 0.438, acc_val:0.477, time: 5.811\t\n",
      "epoch 13, loss: 1.002, acc: 0.594, acc_val:0.479, time: 5.816\t\n",
      "epoch 14, loss: 1.085, acc: 0.531, acc_val:0.487, time: 5.913\t\n",
      "epoch 15, loss: 0.997, acc: 0.625, acc_val:0.486, time: 6.204\t\n",
      "epoch 16, loss: 0.853, acc: 0.656, acc_val:0.486, time: 5.762\t\n",
      "epoch 17, loss: 0.889, acc: 0.688, acc_val:0.483, time: 6.291\t\n",
      "epoch 18, loss: 0.992, acc: 0.656, acc_val:0.484, time: 5.990\t\n",
      "epoch 19, loss: 0.777, acc: 0.719, acc_val:0.493, time: 5.920\t\n",
      "epoch 20, loss: 0.970, acc: 0.625, acc_val:0.479, time: 6.297\t\n",
      "epoch 21, loss: 0.758, acc: 0.719, acc_val:0.493, time: 5.664\t\n",
      "epoch 22, loss: 0.952, acc: 0.594, acc_val:0.488, time: 5.929\t\n",
      "epoch 23, loss: 0.730, acc: 0.688, acc_val:0.484, time: 5.771\t\n",
      "epoch 24, loss: 0.731, acc: 0.719, acc_val:0.492, time: 5.605\t\n",
      "epoch 25, loss: 0.609, acc: 0.812, acc_val:0.495, time: 6.013\t\n",
      "epoch 26, loss: 0.543, acc: 0.781, acc_val:0.499, time: 5.850\t\n",
      "epoch 27, loss: 0.528, acc: 0.844, acc_val:0.489, time: 5.659\t\n",
      "epoch 28, loss: 0.590, acc: 0.844, acc_val:0.492, time: 5.786\t\n",
      "epoch 29, loss: 0.677, acc: 0.688, acc_val:0.490, time: 5.823\t\n",
      "epoch 30, loss: 0.692, acc: 0.750, acc_val:0.486, time: 5.921\t\n",
      "epoch 31, loss: 0.409, acc: 0.781, acc_val:0.494, time: 6.047\t\n",
      "epoch 32, loss: 0.519, acc: 0.812, acc_val:0.484, time: 5.859\t\n",
      "epoch 33, loss: 0.397, acc: 0.906, acc_val:0.492, time: 5.815\t\n",
      "epoch 34, loss: 0.536, acc: 0.781, acc_val:0.479, time: 5.686\t\n",
      "epoch 35, loss: 0.572, acc: 0.750, acc_val:0.491, time: 5.860\t\n",
      "epoch 36, loss: 0.402, acc: 0.844, acc_val:0.488, time: 5.885\t\n",
      "epoch 37, loss: 0.480, acc: 0.812, acc_val:0.495, time: 5.845\t\n",
      "epoch 38, loss: 0.645, acc: 0.750, acc_val:0.490, time: 5.878\t\n",
      "epoch 39, loss: 0.484, acc: 0.844, acc_val:0.492, time: 5.970\t\n",
      "epoch 40, loss: 0.466, acc: 0.875, acc_val:0.488, time: 5.930\t\n",
      "epoch 41, loss: 0.535, acc: 0.719, acc_val:0.480, time: 6.038\t\n",
      "epoch 42, loss: 0.528, acc: 0.781, acc_val:0.476, time: 6.046\t\n",
      "epoch 43, loss: 0.204, acc: 0.969, acc_val:0.491, time: 5.738\t\n",
      "epoch 44, loss: 0.191, acc: 0.938, acc_val:0.476, time: 5.909\t\n",
      "epoch 45, loss: 0.525, acc: 0.844, acc_val:0.482, time: 5.851\t\n",
      "epoch 46, loss: 0.468, acc: 0.750, acc_val:0.483, time: 6.562\t\n",
      "epoch 47, loss: 0.462, acc: 0.844, acc_val:0.481, time: 5.962\t\n",
      "epoch 48, loss: 0.207, acc: 0.969, acc_val:0.488, time: 5.604\t\n",
      "epoch 49, loss: 0.301, acc: 0.875, acc_val:0.486, time: 5.968\t\n",
      "epoch 50, loss: 0.303, acc: 0.906, acc_val:0.481, time: 5.800\t\n",
      "acc_test: 0.490\n"
     ]
    }
   ],
   "source": [
    "init = tf.global_variables_initializer()\n",
    "\n",
    "total_batch = int(40000 / batch_size)\n",
    "num_steps = (epochs + 1) * total_batch\n",
    "\n",
    "acc_val_list = []\n",
    "\n",
    "with tf.Session() as sess:\n",
    "    sess.run(init)\n",
    "    time_start = time.time()\n",
    "    for i in range(num_steps):\n",
    "        # fetch batch\n",
    "        batch_x, batch_y = next_batch(batch_size, training_features, training_labels)\n",
    "        # run optimization\n",
    "        sess.run(train_op, feed_dict={X: batch_x, Y: batch_y})\n",
    "        if (i > 1) and (i % total_batch == 0):\n",
    "            time_end = time.time()\n",
    "            l, acc = sess.run([loss, accuracy], feed_dict={X: batch_x, Y: batch_y})\n",
    "            acc_val = sess.run(accuracy, feed_dict={X: val_features, Y: val_labels})\n",
    "            acc_val_list.append(acc_val)\n",
    "            print(\"epoch \" + str(int(i/total_batch)) + \", loss: {:.3f}\".format(l) + \\\n",
    "                  \", acc: {:.3f}\".format(acc) + \", acc_val:{:.3f}\".format(acc_val) + \\\n",
    "                  \", time: {:.3f}\\t\".format(time_end-time_start))\n",
    "            time_start = time.time()\n",
    "\n",
    "    acc_test = sess.run(accuracy, feed_dict={X: test_features, Y: test_labels})\n",
    "    print(\"acc_test: {:.3f}\".format(acc_test))"
   ]
  },
  {
   "cell_type": "code",
   "execution_count": 50,
   "metadata": {},
   "outputs": [
    {
     "data": {
      "text/plain": [
       "Text(0, 0.5, 'Validation Accuracy (%)')"
      ]
     },
     "execution_count": 50,
     "metadata": {},
     "output_type": "execute_result"
    },
    {
     "data": {
      "image/png": "[encoded data removed]",
      "text/plain": [
       "<Figure size 720x432 with 1 Axes>"
      ]
     },
     "metadata": {
      "needs_background": "light"
     },
     "output_type": "display_data"
    }
   ],
   "source": [
    "import matplotlib.pyplot as plt\n",
    "\n",
    "plt.figure(figsize=(10, 6))\n",
    "plt.plot(np.arange(len(acc_val_list)), acc_val_list)\n",
    "plt.xlabel(\"Epoch\")\n",
    "plt.ylabel(\"Validation Accuracy (%)\")"
   ]
  },
  {
   "cell_type": "code",
   "execution_count": null,
   "metadata": {},
   "outputs": [],
   "source": []
  }
 ],
 "metadata": {
  "kernelspec": {
   "display_name": "Python 3",
   "language": "python",
   "name": "python3"
  },
  "language_info": {
   "codemirror_mode": {
    "name": "ipython",
    "version": 3
   },
   "file_extension": ".py",
   "mimetype": "text/x-python",
   "name": "python",
   "nbconvert_exporter": "python",
   "pygments_lexer": "ipython3",
   "version": "3.6.8"
  }
 },
 "nbformat": 4,
 "nbformat_minor": 2
}
