{
 "cells": [
  {
   "cell_type": "code",
   "execution_count": 12,
   "metadata": {},
   "outputs": [],
   "source": [
    "import tensorflow as tf\n",
    "import pickle\n",
    "import numpy as np\n",
    "import time\n",
    "import load_cifar\n",
    "import os\n",
    "os.environ[\"CUDA_VISIBLE_DEVICES\"]=\"2\""
   ]
  },
  {
   "cell_type": "code",
   "execution_count": 13,
   "metadata": {},
   "outputs": [],
   "source": [
    "tf.reset_default_graph()"
   ]
  },
  {
   "cell_type": "markdown",
   "metadata": {},
   "source": [
    "<h1>Define Hyper-perparmeter</h1>"
   ]
  },
  {
   "cell_type": "code",
   "execution_count": 26,
   "metadata": {},
   "outputs": [],
   "source": [
    "num_classes = 10\n",
    "num_features = 3072\n",
    "num_output = 10\n",
    "hidden_1 = 300\n",
    "hidden_2 = 300\n",
    "hidden_3 = 300\n",
    "hidden_4 = 300\n",
    "hidden_5 = 300\n",
    "hidden_6 = 300\n",
    "lr = 0.001\n",
    "batch_size = 32\n",
    "epochs = 50\n",
    "dropout_prob = 0.5"
   ]
  },
  {
   "cell_type": "markdown",
   "metadata": {},
   "source": [
    "<h1>Define Placeholder</h1>"
   ]
  },
  {
   "cell_type": "code",
   "execution_count": 15,
   "metadata": {},
   "outputs": [],
   "source": [
    "X = tf.placeholder('float32',shape =(None,num_features),name=\"X\")\n",
    "Y = tf.placeholder('float32',shape = (None,num_classes),name=\"Y\")"
   ]
  },
  {
   "cell_type": "markdown",
   "metadata": {},
   "source": [
    "<h1>Define Neural Network Architecture</h1>"
   ]
  },
  {
   "cell_type": "code",
   "execution_count": 16,
   "metadata": {},
   "outputs": [],
   "source": [
    "weights = {\n",
    "    'W1': tf.Variable(tf.random_normal([num_features, hidden_1],stddev=0.1),name='W1'),\n",
    "    'W2': tf.Variable(tf.random_normal([hidden_1, hidden_2],stddev=0.1),name='W2'),\n",
    "    'W3': tf.Variable(tf.random_normal([hidden_2, hidden_3],stddev=0.1), name='W3'),\n",
    "    'W4': tf.Variable(tf.random_normal([hidden_3, hidden_4],stddev=0.1), name='W4'),\n",
    "    'W5': tf.Variable(tf.random_normal([hidden_4, hidden_5],stddev=0.1), name='W5'),\n",
    "    'W6': tf.Variable(tf.random_normal([hidden_5, hidden_6],stddev=0.1), name='W6'),\n",
    "    'Wout': tf.Variable(tf.random_normal([hidden_6, num_classes],stddev=0.1),name='Wout')\n",
    "}\n",
    "\n",
    "biases = {\n",
    "    'b1': tf.Variable(tf.zeros(shape=[hidden_1]),name='b1'),\n",
    "    'b2': tf.Variable(tf.zeros(shape=[hidden_2]),name='b2'),\n",
    "    'b3': tf.Variable(tf.zeros(shape=[hidden_3]),name='b3'),\n",
    "    'b4': tf.Variable(tf.zeros(shape=[hidden_4]),name='b4'),\n",
    "    'b5': tf.Variable(tf.zeros(shape=[hidden_5]), name='b5'),\n",
    "    'b6': tf.Variable(tf.zeros(shape=[hidden_6]), name='b6'),\n",
    "    'bout': tf.Variable(tf.zeros(shape=[num_classes]),name='bout')\n",
    "}\n",
    "\n",
    "def neural_net(x):\n",
    "    ly_1_out = tf.nn.relu(tf.add(tf.matmul(x,weights['W1']),biases['b1']))\n",
    "    ly_2_out = tf.nn.relu(tf.add(tf.matmul(ly_1_out,weights['W2']),biases['b2']))\n",
    "    ly_3_out = tf.nn.relu(tf.add(tf.matmul(ly_2_out, weights['W3']), biases['b3']))\n",
    "    ly_4_out = tf.nn.relu(tf.add(tf.matmul(ly_3_out, weights['W4']), biases['b4']))\n",
    "    ly_5_out = tf.nn.relu(tf.add(tf.matmul(ly_4_out, weights['W5']), biases['b5']))\n",
    "    ly_6_out = tf.nn.relu(tf.add(tf.matmul(ly_5_out, weights['W6']), biases['b6']))\n",
    "    out = tf.add(tf.matmul(ly_6_out,weights['Wout']),biases['bout'])\n",
    "    return out\n"
   ]
  },
  {
   "cell_type": "markdown",
   "metadata": {},
   "source": [
    "<h1>Define cost and optimization</h1>"
   ]
  },
  {
   "cell_type": "code",
   "execution_count": 17,
   "metadata": {},
   "outputs": [],
   "source": [
    "logits = neural_net(X)\n",
    "Y_hat = tf.nn.softmax(logits)\n",
    "\n",
    "loss = tf.reduce_mean(tf.nn.softmax_cross_entropy_with_logits_v2(logits=logits,labels=Y))\n",
    "\n",
    "optimizer = tf.train.AdamOptimizer(learning_rate=lr)\n",
    "train_op = optimizer.minimize(loss)\n",
    "\n",
    "correct_pred = tf.equal(tf.argmax(Y_hat,1),tf.argmax(Y,1))\n",
    "\n",
    "accuracy = tf.reduce_mean(tf.cast(correct_pred,tf.float32),name='accuracy')"
   ]
  },
  {
   "cell_type": "markdown",
   "metadata": {},
   "source": [
    "<h1>Training and testing</h1>\n",
    "<h2>1.Print out validation accuracy after each training poch</h2>\n",
    "<h2>2.Print out training time you spend on each epoch</h2>\n",
    "<h2>3.Print out testing accuracy in the end</h2>"
   ]
  },
  {
   "cell_type": "code",
   "execution_count": 18,
   "metadata": {},
   "outputs": [],
   "source": [
    "val_features, val_labels = pickle.load(open('vali_data.pickle','rb'))\n",
    "training_features,training_labels = pickle.load(open('train_data.pickle','rb'))\n",
    "test_features, test_labels = pickle.load(open('test_data.pickle','rb'))\n",
    "val_labels = np.squeeze(val_labels.todense())\n",
    "training_labels = np.squeeze(training_labels.todense())\n",
    "test_labels = np.squeeze(test_labels.todense())"
   ]
  },
  {
   "cell_type": "code",
   "execution_count": 19,
   "metadata": {},
   "outputs": [],
   "source": [
    "def next_batch(batch_size, data, labels):\n",
    "    idx = np.arange(0 , len(data))\n",
    "    np.random.shuffle(idx)\n",
    "    idx = idx[:batch_size]\n",
    "    data_shuffle = [data[i] for i in idx]\n",
    "    labels_shuffle = [labels[i] for i in idx]\n",
    "    data_shuffle = np.asarray(data_shuffle)\n",
    "    labels_shuffle = np.asarray(labels_shuffle)\n",
    "    labels_shuffle = np.squeeze(labels_shuffle)\n",
    "    return data_shuffle, labels_shuffle"
   ]
  },
  {
   "cell_type": "code",
   "execution_count": 27,
   "metadata": {},
   "outputs": [
    {
     "name": "stdout",
     "output_type": "stream",
     "text": [
      "epoch 1, loss: 1.625, acc: 0.438, acc_val:0.346, time: 5.572\t\n",
      "epoch 2, loss: 1.725, acc: 0.375, acc_val:0.372, time: 5.562\t\n",
      "epoch 3, loss: 1.253, acc: 0.562, acc_val:0.410, time: 5.704\t\n",
      "epoch 4, loss: 1.619, acc: 0.500, acc_val:0.415, time: 5.581\t\n",
      "epoch 5, loss: 1.387, acc: 0.406, acc_val:0.419, time: 5.679\t\n",
      "epoch 6, loss: 1.538, acc: 0.438, acc_val:0.445, time: 5.822\t\n",
      "epoch 7, loss: 1.370, acc: 0.594, acc_val:0.451, time: 5.666\t\n",
      "epoch 8, loss: 1.212, acc: 0.594, acc_val:0.448, time: 5.712\t\n",
      "epoch 9, loss: 1.393, acc: 0.594, acc_val:0.458, time: 5.770\t\n",
      "epoch 10, loss: 1.381, acc: 0.500, acc_val:0.470, time: 5.533\t\n",
      "epoch 11, loss: 1.231, acc: 0.500, acc_val:0.471, time: 5.755\t\n",
      "epoch 12, loss: 1.079, acc: 0.688, acc_val:0.474, time: 5.494\t\n",
      "epoch 13, loss: 1.470, acc: 0.531, acc_val:0.483, time: 5.433\t\n",
      "epoch 14, loss: 1.020, acc: 0.688, acc_val:0.495, time: 5.483\t\n",
      "epoch 15, loss: 1.446, acc: 0.500, acc_val:0.474, time: 5.401\t\n",
      "epoch 16, loss: 1.368, acc: 0.469, acc_val:0.497, time: 5.424\t\n",
      "epoch 17, loss: 0.874, acc: 0.656, acc_val:0.502, time: 5.481\t\n",
      "epoch 18, loss: 0.913, acc: 0.719, acc_val:0.496, time: 5.398\t\n",
      "epoch 19, loss: 1.159, acc: 0.562, acc_val:0.492, time: 5.437\t\n",
      "epoch 20, loss: 0.755, acc: 0.750, acc_val:0.496, time: 5.605\t\n",
      "epoch 21, loss: 0.838, acc: 0.719, acc_val:0.483, time: 5.362\t\n",
      "epoch 22, loss: 0.948, acc: 0.594, acc_val:0.494, time: 5.436\t\n",
      "epoch 23, loss: 0.915, acc: 0.688, acc_val:0.480, time: 5.492\t\n",
      "epoch 24, loss: 0.610, acc: 0.812, acc_val:0.493, time: 5.518\t\n",
      "epoch 25, loss: 0.837, acc: 0.750, acc_val:0.502, time: 5.517\t\n",
      "epoch 26, loss: 1.180, acc: 0.594, acc_val:0.489, time: 5.439\t\n",
      "epoch 27, loss: 0.877, acc: 0.719, acc_val:0.494, time: 5.450\t\n",
      "epoch 28, loss: 1.132, acc: 0.656, acc_val:0.489, time: 5.716\t\n",
      "epoch 29, loss: 0.982, acc: 0.750, acc_val:0.497, time: 5.539\t\n",
      "epoch 30, loss: 0.926, acc: 0.656, acc_val:0.488, time: 5.569\t\n",
      "epoch 31, loss: 0.584, acc: 0.781, acc_val:0.491, time: 5.878\t\n",
      "epoch 32, loss: 0.553, acc: 0.844, acc_val:0.501, time: 5.691\t\n",
      "epoch 33, loss: 0.756, acc: 0.781, acc_val:0.488, time: 5.594\t\n",
      "epoch 34, loss: 0.574, acc: 0.781, acc_val:0.494, time: 5.766\t\n",
      "epoch 35, loss: 0.605, acc: 0.781, acc_val:0.490, time: 5.506\t\n",
      "epoch 36, loss: 0.487, acc: 0.844, acc_val:0.486, time: 5.373\t\n",
      "epoch 37, loss: 0.270, acc: 0.938, acc_val:0.488, time: 5.409\t\n",
      "epoch 38, loss: 0.578, acc: 0.781, acc_val:0.495, time: 5.355\t\n",
      "epoch 39, loss: 0.430, acc: 0.812, acc_val:0.489, time: 5.390\t\n",
      "epoch 40, loss: 0.339, acc: 0.812, acc_val:0.490, time: 5.506\t\n",
      "epoch 41, loss: 0.433, acc: 0.812, acc_val:0.484, time: 5.458\t\n",
      "epoch 42, loss: 0.527, acc: 0.906, acc_val:0.501, time: 5.460\t\n",
      "epoch 43, loss: 0.482, acc: 0.875, acc_val:0.491, time: 5.438\t\n",
      "epoch 44, loss: 0.400, acc: 0.844, acc_val:0.486, time: 5.633\t\n",
      "epoch 45, loss: 0.311, acc: 0.875, acc_val:0.489, time: 5.444\t\n",
      "epoch 46, loss: 0.402, acc: 0.875, acc_val:0.492, time: 5.717\t\n",
      "epoch 47, loss: 0.370, acc: 0.875, acc_val:0.499, time: 5.667\t\n",
      "epoch 48, loss: 0.515, acc: 0.812, acc_val:0.485, time: 5.491\t\n",
      "epoch 49, loss: 0.117, acc: 0.969, acc_val:0.493, time: 5.440\t\n",
      "epoch 50, loss: 0.300, acc: 0.938, acc_val:0.481, time: 5.493\t\n",
      "acc_test: 0.477\n"
     ]
    }
   ],
   "source": [
    "init = tf.global_variables_initializer()\n",
    "\n",
    "total_batch = int(40000 / batch_size)\n",
    "num_steps = (epochs + 1) * total_batch\n",
    "\n",
    "acc_val_list = []\n",
    "\n",
    "with tf.Session() as sess:\n",
    "    sess.run(init)\n",
    "    time_start = time.time()\n",
    "    for i in range(num_steps):\n",
    "        # fetch batch\n",
    "        batch_x, batch_y = next_batch(batch_size, training_features, training_labels)\n",
    "        # run optimization\n",
    "        sess.run(train_op, feed_dict={X: batch_x, Y: batch_y})\n",
    "        if (i > 1) and (i % total_batch == 0):\n",
    "            time_end = time.time()\n",
    "            l, acc = sess.run([loss, accuracy], feed_dict={X: batch_x, Y: batch_y})\n",
    "            acc_val = sess.run(accuracy, feed_dict={X: val_features, Y: val_labels})\n",
    "            acc_val_list.append(acc_val)\n",
    "            print(\"epoch \" + str(int(i/total_batch)) + \", loss: {:.3f}\".format(l) + \\\n",
    "                  \", acc: {:.3f}\".format(acc) + \", acc_val:{:.3f}\".format(acc_val) + \\\n",
    "                  \", time: {:.3f}\\t\".format(time_end-time_start))\n",
    "            time_start = time.time()\n",
    "\n",
    "    acc_test = sess.run(accuracy, feed_dict={X: test_features, Y: test_labels})\n",
    "    print(\"acc_test: {:.3f}\".format(acc_test))"
   ]
  },
  {
   "cell_type": "code",
   "execution_count": 28,
   "metadata": {},
   "outputs": [
    {
     "data": {
      "text/plain": [
       "Text(0, 0.5, 'Validation Accuracy (%)')"
      ]
     },
     "execution_count": 28,
     "metadata": {},
     "output_type": "execute_result"
    },
    {
     "data": {
      "image/png": "[encoded data removed]",
      "text/plain": [
       "<Figure size 720x432 with 1 Axes>"
      ]
     },
     "metadata": {
      "needs_background": "light"
     },
     "output_type": "display_data"
    }
   ],
   "source": [
    "import matplotlib.pyplot as plt\n",
    "plt.figure(figsize=(10, 6))\n",
    "plt.plot(np.arange(len(acc_val_list)), acc_val_list)\n",
    "plt.xlabel(\"Epoch\")\n",
    "plt.ylabel(\"Validation Accuracy\")"
   ]
  },
  {
   "cell_type": "code",
   "execution_count": null,
   "metadata": {},
   "outputs": [],
   "source": []
  }
 ],
 "metadata": {
  "kernelspec": {
   "display_name": "Python 3",
   "language": "python",
   "name": "python3"
  },
  "language_info": {
   "codemirror_mode": {
    "name": "ipython",
    "version": 3
   },
   "file_extension": ".py",
   "mimetype": "text/x-python",
   "name": "python",
   "nbconvert_exporter": "python",
   "pygments_lexer": "ipython3",
   "version": "3.6.8"
  }
 },
 "nbformat": 4,
 "nbformat_minor": 2
}
