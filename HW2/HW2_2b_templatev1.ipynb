{
 "cells": [
  {
   "cell_type": "code",
   "execution_count": 31,
   "metadata": {},
   "outputs": [],
   "source": [
    "import tensorflow as tf\n",
    "import pickle\n",
    "import numpy as np\n",
    "import timeit\n",
    "import time\n",
    "import load_cifar\n",
    "from sklearn.metrics import roc_auc_score, accuracy_score\n",
    "from scipy.sparse import csr_matrix"
   ]
  },
  {
   "cell_type": "code",
   "execution_count": 32,
   "metadata": {},
   "outputs": [],
   "source": [
    "tf.reset_default_graph()"
   ]
  },
  {
   "cell_type": "code",
   "execution_count": 33,
   "metadata": {},
   "outputs": [],
   "source": [
    "def next_batch(num, data, labels):\n",
    "    '''\n",
    "    Return a total of `num` random samples and labels. \n",
    "    '''\n",
    "    idx = np.arange(0 , len(data))\n",
    "    np.random.shuffle(idx)\n",
    "    idx = idx[:num]\n",
    "    data_shuffle = [data[i] for i in idx]\n",
    "    labels_shuffle = [labels[i] for i in idx]\n",
    "    data_shuffle = np.asarray(data_shuffle)\n",
    "    labels_shuffle = np.asarray(labels_shuffle)\n",
    "    labels_shuffle = np.squeeze(labels_shuffle)\n",
    "    return data_shuffle, labels_shuffle"
   ]
  },
  {
   "cell_type": "markdown",
   "metadata": {},
   "source": [
    "<h1>Define Hyper-perparmeter</h1>"
   ]
  },
  {
   "cell_type": "code",
   "execution_count": 34,
   "metadata": {},
   "outputs": [],
   "source": [
    "num_classes = 10\n",
    "num_features = 3072\n",
    "num_output = 10\n",
    "num_layers_0 = 500\n",
    "num_layers_1 = 40\n",
    "starter_learning_rate = 0.1\n",
    "regularizer_rate = 0\n",
    "batch_size = 2056\n",
    "epochs = 100\n",
    "dropout_prob = 0.8\n",
    "training_accuracy = []\n",
    "validation_accuracy = []\n",
    "training_loss = []\n",
    "testing_accuracy = []"
   ]
  },
  {
   "cell_type": "code",
   "execution_count": 35,
   "metadata": {},
   "outputs": [],
   "source": [
    "#### EXAMPLE, FEEL FREE TO CHANGE #####\n",
    "valid_features, valid_labels = pickle.load(open('vali_data.pickle','rb'))\n",
    "training_features,training_labels = pickle.load(open('train_data.pickle','rb'))\n",
    "test_features, test_labels = pickle.load(open('test_data.pickle','rb'))"
   ]
  },
  {
   "cell_type": "code",
   "execution_count": 36,
   "metadata": {},
   "outputs": [],
   "source": [
    "valid_labels = np.squeeze(valid_labels.todense())\n",
    "training_labels = np.squeeze(training_labels.todense())\n",
    "test_labels = np.squeeze(test_labels.todense())"
   ]
  },
  {
   "cell_type": "code",
   "execution_count": 37,
   "metadata": {},
   "outputs": [
    {
     "name": "stdout",
     "output_type": "stream",
     "text": [
      "(40000, 10)\n",
      "[[0. 1. 0. 0. 0. 0. 0. 0. 0. 0.]]\n",
      "(40000, 3072)\n"
     ]
    }
   ],
   "source": [
    "print(training_labels.shape)\n",
    "print(training_labels[0])\n",
    "print(training_features.shape)"
   ]
  },
  {
   "cell_type": "code",
   "execution_count": 38,
   "metadata": {},
   "outputs": [
    {
     "name": "stdout",
     "output_type": "stream",
     "text": [
      "[0.1372549  0.10588235 0.09803922 0.10196078 0.09411765 0.08627451\n",
      " 0.09019608 0.09803922 0.09803922 0.09411765 0.10196078 0.09803922\n",
      " 0.30980392 0.45098039 0.44313725 0.45490196 0.45882353 0.4627451\n",
      " 0.49019608 0.50980392 0.44705882 0.42745098 0.4745098  0.47843137\n",
      " 0.54117647 0.49411765 0.54117647 0.55686275 0.50588235 0.51764706\n",
      " 0.52156863 0.49411765 0.24705882 0.1254902  0.06666667 0.08235294\n",
      " 0.09411765 0.09019608 0.09019608 0.09019608 0.09019608 0.09019608\n",
      " 0.09019608 0.08627451 0.36078431 0.50980392 0.48627451 0.49803922\n",
      " 0.54117647 0.54117647 0.42352941 0.4627451  0.5372549  0.5254902\n",
      " 0.52941176 0.54117647 0.5372549  0.51372549 0.52941176 0.4745098\n",
      " 0.43137255 0.4        0.41176471 0.39215686 0.38823529 0.19215686\n",
      " 0.05882353 0.07843137 0.09411765 0.09411765 0.09019608 0.09803922\n",
      " 0.10980392 0.10980392 0.09803922 0.10196078 0.39215686 0.5254902\n",
      " 0.46666667 0.42745098 0.53333333 0.54117647 0.39215686 0.4627451\n",
      " 0.56078431 0.54901961 0.57254902 0.60392157 0.5254902  0.55294118\n",
      " 0.56078431 0.42745098 0.22352941 0.18039216 0.20392157 0.20392157\n",
      " 0.43529412 0.2745098  0.14901961 0.12156863]\n"
     ]
    }
   ],
   "source": [
    "print(training_features[0,0:100])"
   ]
  },
  {
   "cell_type": "markdown",
   "metadata": {},
   "source": [
    "<h1>Define Placeholder</h1>"
   ]
  },
  {
   "cell_type": "code",
   "execution_count": 39,
   "metadata": {},
   "outputs": [],
   "source": [
    "# Placeholders for the input data\n",
    "input_X = tf.placeholder('float32',shape =(None,num_features),name=\"input_X\")\n",
    "input_y = tf.placeholder('float32',shape = (None,num_classes),name=\"input_Y\")\n",
    "## for dropout layer\n",
    "keep_prob = tf.placeholder(tf.float32)\n"
   ]
  },
  {
   "cell_type": "code",
   "execution_count": 40,
   "metadata": {},
   "outputs": [],
   "source": [
    "## Weights initialized by random normal function with std_dev = 1/sqrt(number of input features)\n",
    "weights_0 = tf.Variable(tf.random_normal([num_features,num_layers_0], stddev=(1/tf.sqrt(float(num_features)))))\n",
    "bias_0 = tf.Variable(tf.random_normal([num_layers_0]))\n",
    "weights_1 = tf.Variable(tf.random_normal([num_layers_0,num_layers_1], stddev=(1/tf.sqrt(float(num_layers_0)))))\n",
    "bias_1 = tf.Variable(tf.random_normal([num_layers_1]))\n",
    "weights_2 = tf.Variable(tf.random_normal([num_layers_1,num_classes], stddev=(1/tf.sqrt(float(num_layers_1)))))\n",
    "bias_2 = tf.Variable(tf.random_normal([num_classes]))"
   ]
  },
  {
   "cell_type": "markdown",
   "metadata": {},
   "source": [
    "<h1>Define Neural Network Architecture</h1>"
   ]
  },
  {
   "cell_type": "code",
   "execution_count": 41,
   "metadata": {},
   "outputs": [],
   "source": [
    "## Initializing weigths and biases\n",
    "hidden_output_0 = tf.nn.relu(tf.matmul(input_X,weights_0) + bias_0)\n",
    "hidden_output_0_0 = tf.nn.dropout(hidden_output_0, keep_prob)\n",
    "hidden_output_1 = tf.nn.relu(tf.matmul(hidden_output_0_0,weights_1) + bias_1)\n",
    "hidden_output_1_1 = tf.nn.dropout(hidden_output_1, keep_prob)\n",
    "predicted_y = tf.matmul(hidden_output_1_1,weights_2) + bias_2"
   ]
  },
  {
   "cell_type": "markdown",
   "metadata": {},
   "source": [
    "<h1>Define cost and optimization</h1>"
   ]
  },
  {
   "cell_type": "code",
   "execution_count": 42,
   "metadata": {},
   "outputs": [],
   "source": [
    "## Defining the loss function\n",
    "loss = tf.reduce_mean(tf.nn.softmax_cross_entropy_with_logits_v2(logits=predicted_y,labels=input_y)) \\\n",
    "        + regularizer_rate*(tf.reduce_sum(tf.square(bias_0)) + tf.reduce_sum(tf.square(bias_1)) \\\n",
    "                           + tf.reduce_sum(tf.square(bias_2)))\n",
    "## Variable learning rate\n",
    "#learning_rate = tf.train.exponential_decay(starter_learning_rate, 0, 5, 0.85, staircase=True)\n",
    "learning_rate = starter_learning_rate\n",
    "optimizer = tf.train.AdamOptimizer(learning_rate).minimize(loss)\n",
    "correct_prediction = tf.equal(tf.argmax(input_y,1), tf.argmax(predicted_y,1))\n",
    "accuracy = tf.reduce_mean(tf.cast(correct_prediction, tf.float32))"
   ]
  },
  {
   "cell_type": "markdown",
   "metadata": {},
   "source": [
    "<h1>Training and testing</h1>\n",
    "<h2>1.Print out validation accuracy after each training poch</h2>\n",
    "<h2>2.Print out training time you spend on each epoch</h2>\n",
    "<h2>3.Print out testing accuracy in the end</h2>"
   ]
  },
  {
   "cell_type": "code",
   "execution_count": 43,
   "metadata": {},
   "outputs": [
    {
     "name": "stdout",
     "output_type": "stream",
     "text": [
      "Epoch:0, Train time: 2.503 Train loss: 2.50 Train acc: 0.104,         Validation acc:0.098\n",
      "Epoch:1, Train time: 2.420 Train loss: 2.31 Train acc: 0.089,         Validation acc:0.103\n",
      "Epoch:2, Train time: 2.462 Train loss: 2.30 Train acc: 0.104,         Validation acc:0.100\n",
      "Epoch:3, Train time: 2.094 Train loss: 2.30 Train acc: 0.102,         Validation acc:0.102\n",
      "Epoch:4, Train time: 2.430 Train loss: 2.30 Train acc: 0.092,         Validation acc:0.101\n",
      "Epoch:5, Train time: 2.415 Train loss: 2.30 Train acc: 0.105,         Validation acc:0.097\n",
      "Epoch:6, Train time: 2.407 Train loss: 2.30 Train acc: 0.104,         Validation acc:0.100\n",
      "Epoch:7, Train time: 2.586 Train loss: 2.30 Train acc: 0.110,         Validation acc:0.103\n",
      "Epoch:8, Train time: 2.422 Train loss: 2.30 Train acc: 0.098,         Validation acc:0.102\n",
      "Epoch:9, Train time: 2.006 Train loss: 2.30 Train acc: 0.096,         Validation acc:0.102\n",
      "Epoch:10, Train time: 2.382 Train loss: 2.30 Train acc: 0.097,         Validation acc:0.101\n",
      "Epoch:11, Train time: 2.404 Train loss: 2.30 Train acc: 0.107,         Validation acc:0.101\n",
      "Epoch:12, Train time: 2.479 Train loss: 2.30 Train acc: 0.102,         Validation acc:0.100\n",
      "Epoch:13, Train time: 2.438 Train loss: 2.30 Train acc: 0.096,         Validation acc:0.101\n",
      "Epoch:14, Train time: 2.507 Train loss: 2.30 Train acc: 0.093,         Validation acc:0.102\n",
      "Epoch:15, Train time: 2.187 Train loss: 2.30 Train acc: 0.103,         Validation acc:0.102\n",
      "Epoch:16, Train time: 2.262 Train loss: 2.30 Train acc: 0.092,         Validation acc:0.101\n",
      "Epoch:17, Train time: 2.386 Train loss: 2.30 Train acc: 0.102,         Validation acc:0.098\n",
      "Epoch:18, Train time: 2.460 Train loss: 2.30 Train acc: 0.101,         Validation acc:0.102\n",
      "Epoch:19, Train time: 2.679 Train loss: 2.30 Train acc: 0.097,         Validation acc:0.098\n",
      "Epoch:20, Train time: 2.420 Train loss: 2.30 Train acc: 0.090,         Validation acc:0.103\n",
      "Epoch:21, Train time: 2.243 Train loss: 2.30 Train acc: 0.112,         Validation acc:0.094\n",
      "Epoch:22, Train time: 2.188 Train loss: 2.30 Train acc: 0.101,         Validation acc:0.102\n",
      "Epoch:23, Train time: 2.389 Train loss: 2.31 Train acc: 0.101,         Validation acc:0.094\n",
      "Epoch:24, Train time: 2.318 Train loss: 2.30 Train acc: 0.095,         Validation acc:0.097\n",
      "Epoch:25, Train time: 2.345 Train loss: 2.30 Train acc: 0.110,         Validation acc:0.094\n",
      "Epoch:26, Train time: 2.479 Train loss: 2.30 Train acc: 0.095,         Validation acc:0.097\n",
      "Epoch:27, Train time: 2.301 Train loss: 2.30 Train acc: 0.103,         Validation acc:0.097\n",
      "Epoch:28, Train time: 2.062 Train loss: 2.30 Train acc: 0.101,         Validation acc:0.103\n",
      "Epoch:29, Train time: 2.286 Train loss: 2.30 Train acc: 0.100,         Validation acc:0.103\n",
      "Epoch:30, Train time: 2.340 Train loss: 2.30 Train acc: 0.110,         Validation acc:0.102\n",
      "Epoch:31, Train time: 2.404 Train loss: 2.30 Train acc: 0.103,         Validation acc:0.097\n",
      "Epoch:32, Train time: 2.262 Train loss: 2.30 Train acc: 0.105,         Validation acc:0.098\n",
      "Epoch:33, Train time: 2.448 Train loss: 2.30 Train acc: 0.102,         Validation acc:0.103\n",
      "Epoch:34, Train time: 2.140 Train loss: 2.30 Train acc: 0.110,         Validation acc:0.102\n",
      "Epoch:35, Train time: 2.273 Train loss: 2.31 Train acc: 0.099,         Validation acc:0.098\n",
      "Epoch:36, Train time: 2.418 Train loss: 2.30 Train acc: 0.102,         Validation acc:0.100\n",
      "Epoch:37, Train time: 2.441 Train loss: 2.30 Train acc: 0.093,         Validation acc:0.102\n",
      "Epoch:38, Train time: 2.418 Train loss: 2.30 Train acc: 0.098,         Validation acc:0.097\n",
      "Epoch:39, Train time: 2.468 Train loss: 2.30 Train acc: 0.099,         Validation acc:0.102\n",
      "Epoch:40, Train time: 2.298 Train loss: 2.30 Train acc: 0.103,         Validation acc:0.102\n",
      "Epoch:41, Train time: 2.230 Train loss: 2.30 Train acc: 0.102,         Validation acc:0.094\n",
      "Epoch:42, Train time: 2.461 Train loss: 2.30 Train acc: 0.092,         Validation acc:0.097\n",
      "Epoch:43, Train time: 2.385 Train loss: 2.30 Train acc: 0.112,         Validation acc:0.098\n",
      "Epoch:44, Train time: 2.411 Train loss: 2.30 Train acc: 0.102,         Validation acc:0.103\n",
      "Epoch:45, Train time: 2.551 Train loss: 2.30 Train acc: 0.096,         Validation acc:0.102\n",
      "Epoch:46, Train time: 2.363 Train loss: 2.30 Train acc: 0.107,         Validation acc:0.101\n",
      "Epoch:47, Train time: 2.024 Train loss: 2.30 Train acc: 0.094,         Validation acc:0.098\n",
      "Epoch:48, Train time: 2.506 Train loss: 2.31 Train acc: 0.100,         Validation acc:0.100\n",
      "Epoch:49, Train time: 2.422 Train loss: 2.30 Train acc: 0.105,         Validation acc:0.098\n",
      "Epoch:50, Train time: 2.388 Train loss: 2.30 Train acc: 0.092,         Validation acc:0.101\n",
      "Epoch:51, Train time: 2.438 Train loss: 2.30 Train acc: 0.104,         Validation acc:0.101\n",
      "Epoch:52, Train time: 2.510 Train loss: 2.30 Train acc: 0.096,         Validation acc:0.098\n",
      "Epoch:53, Train time: 1.994 Train loss: 2.30 Train acc: 0.099,         Validation acc:0.103\n",
      "Epoch:54, Train time: 2.364 Train loss: 2.30 Train acc: 0.118,         Validation acc:0.100\n",
      "Epoch:55, Train time: 2.429 Train loss: 2.30 Train acc: 0.105,         Validation acc:0.101\n",
      "Epoch:56, Train time: 2.263 Train loss: 2.30 Train acc: 0.119,         Validation acc:0.097\n",
      "Epoch:57, Train time: 2.240 Train loss: 2.30 Train acc: 0.106,         Validation acc:0.100\n",
      "Epoch:58, Train time: 2.340 Train loss: 2.30 Train acc: 0.098,         Validation acc:0.097\n",
      "Epoch:59, Train time: 2.159 Train loss: 2.30 Train acc: 0.103,         Validation acc:0.102\n",
      "Epoch:60, Train time: 2.180 Train loss: 2.30 Train acc: 0.103,         Validation acc:0.098\n",
      "Epoch:61, Train time: 2.441 Train loss: 2.30 Train acc: 0.101,         Validation acc:0.102\n",
      "Epoch:62, Train time: 2.374 Train loss: 2.30 Train acc: 0.107,         Validation acc:0.103\n",
      "Epoch:63, Train time: 2.537 Train loss: 2.30 Train acc: 0.096,         Validation acc:0.100\n",
      "Epoch:64, Train time: 2.525 Train loss: 2.30 Train acc: 0.102,         Validation acc:0.094\n",
      "Epoch:65, Train time: 2.399 Train loss: 2.30 Train acc: 0.106,         Validation acc:0.094\n",
      "Epoch:66, Train time: 2.082 Train loss: 2.30 Train acc: 0.103,         Validation acc:0.102\n",
      "Epoch:67, Train time: 2.375 Train loss: 2.30 Train acc: 0.101,         Validation acc:0.103\n",
      "Epoch:68, Train time: 2.124 Train loss: 2.30 Train acc: 0.103,         Validation acc:0.097\n",
      "Epoch:69, Train time: 2.075 Train loss: 2.30 Train acc: 0.098,         Validation acc:0.102\n",
      "Epoch:70, Train time: 2.118 Train loss: 2.30 Train acc: 0.100,         Validation acc:0.101\n",
      "Epoch:71, Train time: 2.158 Train loss: 2.30 Train acc: 0.096,         Validation acc:0.094\n",
      "Epoch:72, Train time: 1.989 Train loss: 2.30 Train acc: 0.104,         Validation acc:0.102\n",
      "Epoch:73, Train time: 2.068 Train loss: 2.31 Train acc: 0.088,         Validation acc:0.100\n",
      "Epoch:74, Train time: 2.384 Train loss: 2.31 Train acc: 0.106,         Validation acc:0.102\n",
      "Epoch:75, Train time: 2.382 Train loss: 2.30 Train acc: 0.099,         Validation acc:0.103\n",
      "Epoch:76, Train time: 2.443 Train loss: 2.30 Train acc: 0.100,         Validation acc:0.101\n",
      "Epoch:77, Train time: 2.609 Train loss: 2.30 Train acc: 0.108,         Validation acc:0.094\n",
      "Epoch:78, Train time: 2.403 Train loss: 2.30 Train acc: 0.107,         Validation acc:0.097\n",
      "Epoch:79, Train time: 2.127 Train loss: 2.31 Train acc: 0.099,         Validation acc:0.103\n",
      "Epoch:80, Train time: 1.975 Train loss: 2.30 Train acc: 0.108,         Validation acc:0.100\n",
      "Epoch:81, Train time: 1.972 Train loss: 2.30 Train acc: 0.110,         Validation acc:0.102\n",
      "Epoch:82, Train time: 2.064 Train loss: 2.30 Train acc: 0.103,         Validation acc:0.102\n",
      "Epoch:83, Train time: 2.132 Train loss: 2.30 Train acc: 0.101,         Validation acc:0.101\n",
      "Epoch:84, Train time: 2.427 Train loss: 2.30 Train acc: 0.095,         Validation acc:0.102\n",
      "Epoch:85, Train time: 2.359 Train loss: 2.31 Train acc: 0.097,         Validation acc:0.102\n",
      "Epoch:86, Train time: 2.081 Train loss: 2.30 Train acc: 0.102,         Validation acc:0.101\n",
      "Epoch:87, Train time: 2.275 Train loss: 2.30 Train acc: 0.100,         Validation acc:0.097\n",
      "Epoch:88, Train time: 2.435 Train loss: 2.30 Train acc: 0.103,         Validation acc:0.100\n",
      "Epoch:89, Train time: 2.374 Train loss: 2.30 Train acc: 0.097,         Validation acc:0.101\n"
     ]
    },
    {
     "name": "stdout",
     "output_type": "stream",
     "text": [
      "Epoch:90, Train time: 2.355 Train loss: 2.30 Train acc: 0.110,         Validation acc:0.101\n",
      "Epoch:91, Train time: 2.313 Train loss: 2.30 Train acc: 0.102,         Validation acc:0.102\n",
      "Epoch:92, Train time: 2.131 Train loss: 2.30 Train acc: 0.105,         Validation acc:0.103\n",
      "Epoch:93, Train time: 2.101 Train loss: 2.30 Train acc: 0.095,         Validation acc:0.094\n",
      "Epoch:94, Train time: 2.455 Train loss: 2.30 Train acc: 0.102,         Validation acc:0.100\n",
      "Epoch:95, Train time: 2.498 Train loss: 2.31 Train acc: 0.104,         Validation acc:0.103\n",
      "Epoch:96, Train time: 2.384 Train loss: 2.30 Train acc: 0.105,         Validation acc:0.103\n",
      "Epoch:97, Train time: 2.495 Train loss: 2.30 Train acc: 0.096,         Validation acc:0.101\n",
      "Epoch:98, Train time: 2.246 Train loss: 2.30 Train acc: 0.099,         Validation acc:0.102\n",
      "Epoch:99, Train time: 2.100 Train loss: 2.30 Train acc: 0.105,         Validation acc:0.103\n",
      "testing accuracy is:  0.1\n"
     ]
    }
   ],
   "source": [
    "with tf.Session() as s:\n",
    "    s.run(tf.global_variables_initializer())\n",
    "    for epoch in range(epochs): \n",
    "        start_time = time.time()\n",
    "        for index in range(0,60000,batch_size):\n",
    "            batch_x, batch_y = next_batch(batch_size, training_features, training_labels)\n",
    "            s.run(optimizer, feed_dict={input_X:batch_x, input_y:batch_y, keep_prob:dropout_prob})\n",
    "        use_time = time.time() - start_time\n",
    "        training_accuracy.append(s.run(accuracy, feed_dict= {input_X:batch_x, \n",
    "                                                             input_y:batch_y,keep_prob:1}))\n",
    "        training_loss.append(s.run(loss, {input_X: batch_x, \n",
    "                                          input_y: batch_y,keep_prob:1}))\n",
    "\n",
    "        # Evaluation of model\n",
    "        validation_accuracy.append(s.run(accuracy, feed_dict= {input_X:valid_features, \\\n",
    "                                                               input_y:valid_labels,keep_prob:1}))\n",
    "        #print(s.run(accuracy, feed_dict= {input_X:valid_features, input_y:valid_labels,keep_prob:1}))\n",
    "        print(\"Epoch:{0}, Train time: {1:.3f} Train loss: {2:.2f} Train acc: {3:.3f}, \\\n",
    "        Validation acc:{4:.3f}\".format(epoch, use_time, training_loss[epoch], training_accuracy[epoch], \\\n",
    "                              validation_accuracy[epoch]))\n",
    "    test_accuracy = accuracy_score(test_labels.argmax(1), s.run(predicted_y, {input_X: test_features, keep_prob:1}).argmax(1))\n",
    "    print('testing accuracy is: ', test_accuracy)"
   ]
  },
  {
   "cell_type": "code",
   "execution_count": null,
   "metadata": {},
   "outputs": [],
   "source": []
  }
 ],
 "metadata": {
  "kernelspec": {
   "display_name": "Python 3",
   "language": "python",
   "name": "python3"
  },
  "language_info": {
   "codemirror_mode": {
    "name": "ipython",
    "version": 3
   },
   "file_extension": ".py",
   "mimetype": "text/x-python",
   "name": "python",
   "nbconvert_exporter": "python",
   "pygments_lexer": "ipython3",
   "version": "3.6.8"
  }
 },
 "nbformat": 4,
 "nbformat_minor": 2
}
