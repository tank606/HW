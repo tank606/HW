{
 "cells": [
  {
   "cell_type": "code",
   "execution_count": 13,
   "metadata": {},
   "outputs": [],
   "source": [
    "import tensorflow as tf\n",
    "import pickle\n",
    "import numpy as np\n",
    "import timeit\n",
    "import time\n",
    "import load_cifar\n",
    "from scipy.sparse import csr_matrix\n",
    "from load_cifar import features_reshape\n",
    "from sklearn.utils import shuffle\n",
    "from tensorflow.contrib.layers import flatten"
   ]
  },
  {
   "cell_type": "code",
   "execution_count": 14,
   "metadata": {},
   "outputs": [],
   "source": [
    "tf.reset_default_graph()"
   ]
  },
  {
   "cell_type": "code",
   "execution_count": 15,
   "metadata": {},
   "outputs": [
    {
     "name": "stdout",
     "output_type": "stream",
     "text": [
      "(40000, 10)\n",
      "  (0, 1)\t1.0\n",
      "(40000, 3072)\n"
     ]
    }
   ],
   "source": [
    "valid_features, valid_labels = pickle.load(open('vali_data.pickle','rb'))\n",
    "training_features,training_labels = pickle.load(open('train_data.pickle','rb'))\n",
    "test_features, test_labels = pickle.load(open('test_data.pickle','rb'))\n",
    "print(training_labels.shape)\n",
    "print(training_labels[0])\n",
    "print(training_features.shape)"
   ]
  },
  {
   "cell_type": "code",
   "execution_count": 16,
   "metadata": {},
   "outputs": [],
   "source": [
    "valid_labels = np.squeeze(valid_labels.todense())\n",
    "training_labels = np.squeeze(training_labels.todense())\n",
    "test_labels = np.squeeze(test_labels.todense())"
   ]
  },
  {
   "cell_type": "code",
   "execution_count": 17,
   "metadata": {},
   "outputs": [
    {
     "name": "stdout",
     "output_type": "stream",
     "text": [
      "(40000, 32, 32, 3)\n",
      "(10000, 32, 32, 3)\n",
      "(10000, 32, 32, 3)\n"
     ]
    }
   ],
   "source": [
    "training_features = features_reshape(training_features)\n",
    "valid_features = features_reshape(valid_features)\n",
    "test_features = features_reshape(test_features)\n",
    "print(training_features.shape)\n",
    "print(valid_features.shape)\n",
    "print(test_features.shape)"
   ]
  },
  {
   "cell_type": "markdown",
   "metadata": {},
   "source": [
    "<h1>Hyperparameter</h1>"
   ]
  },
  {
   "cell_type": "code",
   "execution_count": 26,
   "metadata": {},
   "outputs": [],
   "source": [
    "EPOCHS = 10\n",
    "BATCH_SIZE = 32\n",
    "lr = 0.001"
   ]
  },
  {
   "cell_type": "markdown",
   "metadata": {},
   "source": [
    "<h1>Placeholder</h1>"
   ]
  },
  {
   "cell_type": "code",
   "execution_count": 19,
   "metadata": {},
   "outputs": [],
   "source": [
    "x = tf.placeholder(tf.float32, (None, 32, 32, 3))\n",
    "y = tf.placeholder(tf.int32, (None, 10))"
   ]
  },
  {
   "cell_type": "markdown",
   "metadata": {},
   "source": [
    "<h1>LeNet-5</h1>"
   ]
  },
  {
   "cell_type": "code",
   "execution_count": 20,
   "metadata": {},
   "outputs": [],
   "source": [
    "def LeNet(x):    \n",
    "\n",
    "    conv1_w = tf.Variable(tf.truncated_normal(shape = [5,5,3,6], mean = 0, stddev = 0.1))\n",
    "    conv1_b = tf.Variable(tf.zeros(6))\n",
    "    conv1 = tf.nn.conv2d(x,conv1_w, strides = [1,1,1,1], padding = 'VALID') + conv1_b \n",
    "\n",
    "    conv1 = tf.nn.relu(conv1)\n",
    "\n",
    "    pool_1 = tf.nn.max_pool(conv1, ksize = [1,2,2,1], strides = [1,2,2,1], padding = 'VALID')\n",
    "    \n",
    "    conv2_w = tf.Variable(tf.truncated_normal(shape = [5,5,6,16], mean = 0, stddev = 0.1))\n",
    "    conv2_b = tf.Variable(tf.zeros(16))\n",
    "    conv2 = tf.nn.conv2d(pool_1, conv2_w, strides = [1,1,1,1], padding = 'VALID') + conv2_b\n",
    "\n",
    "    conv2 = tf.nn.relu(conv2)\n",
    "\n",
    "    pool_2 = tf.nn.max_pool(conv2, ksize = [1,2,2,1], strides = [1,2,2,1], padding = 'VALID') \n",
    "    \n",
    "    fc1 = flatten(pool_2)\n",
    "    \n",
    "    fc1_w = tf.Variable(tf.truncated_normal(shape = (400,120), mean = 0, stddev = 0.1))\n",
    "    fc1_b = tf.Variable(tf.zeros(120))\n",
    "    fc1 = tf.matmul(fc1,fc1_w) + fc1_b\n",
    "    \n",
    "    fc1 = tf.nn.relu(fc1)\n",
    "\n",
    "    fc2_w = tf.Variable(tf.truncated_normal(shape = (120,84), mean = 0, stddev = 0.1))\n",
    "    fc2_b = tf.Variable(tf.zeros(84))\n",
    "    fc2 = tf.matmul(fc1,fc2_w) + fc2_b\n",
    "\n",
    "    fc2 = tf.nn.relu(fc2)\n",
    "    \n",
    "    fc3_w = tf.Variable(tf.truncated_normal(shape = (84,10), mean = 0 , stddev = 0.1))\n",
    "    fc3_b = tf.Variable(tf.zeros(10))\n",
    "    predicted_logits = tf.matmul(fc2, fc3_w) + fc3_b\n",
    "    return predicted_logits"
   ]
  },
  {
   "cell_type": "markdown",
   "metadata": {},
   "source": [
    "<h1>Cost and Optimization</h1>"
   ]
  },
  {
   "cell_type": "code",
   "execution_count": 21,
   "metadata": {},
   "outputs": [],
   "source": [
    "predicted_logits = LeNet(x)\n",
    "loss_operation = tf.reduce_mean(tf.nn.softmax_cross_entropy_with_logits_v2(logits = predicted_logits, labels = y))\n",
    "optimizer = tf.train.AdamOptimizer(learning_rate = lr)\n",
    "training_operation = optimizer.minimize(loss_operation)"
   ]
  },
  {
   "cell_type": "code",
   "execution_count": 22,
   "metadata": {},
   "outputs": [],
   "source": [
    "correct_prediction = tf.equal(tf.argmax(predicted_logits, 1), tf.argmax(y, 1))\n",
    "accuracy_operation = tf.reduce_mean(tf.cast(correct_prediction, tf.float32))"
   ]
  },
  {
   "cell_type": "markdown",
   "metadata": {},
   "source": [
    "<h1>Training, validation and testing</h1>\n",
    "<h2>Train your model only 10 epochs.</h2>\n",
    "<h2>1.Print out validation accuracy after each training epoch</h2>\n",
    "<h2>2.Print out training time for each training epoch</h2>\n",
    "<h2>3.Print out testing accuracy</h2>"
   ]
  },
  {
   "cell_type": "code",
   "execution_count": 27,
   "metadata": {},
   "outputs": [
    {
     "name": "stdout",
     "output_type": "stream",
     "text": [
      "epoch 1, Validation Accuracy:0.468\n",
      "epoch 2, Validation Accuracy:0.514\n",
      "epoch 3, Validation Accuracy:0.554\n",
      "epoch 4, Validation Accuracy:0.577\n",
      "epoch 5, Validation Accuracy:0.581\n",
      "epoch 6, Validation Accuracy:0.587\n",
      "epoch 7, Validation Accuracy:0.587\n",
      "epoch 8, Validation Accuracy:0.590\n",
      "epoch 9, Validation Accuracy:0.585\n",
      "epoch 10, Validation Accuracy:0.586\n",
      "Test Accuracy: 0.581\n"
     ]
    }
   ],
   "source": [
    "with tf.Session() as sess:\n",
    "    sess.run(tf.global_variables_initializer())\n",
    "    num_examples = len(training_features)\n",
    "    for i in range(EPOCHS):\n",
    "        start_time = time.time()\n",
    "        for offset in range(0, num_examples, BATCH_SIZE):\n",
    "            end = offset + BATCH_SIZE\n",
    "            batch_x, batch_y = training_features[offset:end,:], training_labels[offset:end,:]\n",
    "            sess.run(training_operation, feed_dict={x: batch_x, y: batch_y})\n",
    "        use_time = time.time() - start_time   \n",
    "        validation_accuracy = sess.run(accuracy_operation,feed_dict={x:valid_features, y:valid_labels})\n",
    "        print(\"epoch {0}, Validation Accuracy:{2:.3f}\".format(i+1, use_time, validation_accuracy))\n",
    "\n",
    "    test_accuracy = sess.run(accuracy_operation,feed_dict={x:test_features, y:test_labels})\n",
    "    print(\"Test Accuracy: {:.3f}\".format(test_accuracy))"
   ]
  },
  {
   "cell_type": "code",
   "execution_count": null,
   "metadata": {},
   "outputs": [],
   "source": []
  }
 ],
 "metadata": {
  "kernelspec": {
   "display_name": "Python 3",
   "language": "python",
   "name": "python3"
  },
  "language_info": {
   "codemirror_mode": {
    "name": "ipython",
    "version": 3
   },
   "file_extension": ".py",
   "mimetype": "text/x-python",
   "name": "python",
   "nbconvert_exporter": "python",
   "pygments_lexer": "ipython3",
   "version": "3.6.8"
  }
 },
 "nbformat": 4,
 "nbformat_minor": 2
}
