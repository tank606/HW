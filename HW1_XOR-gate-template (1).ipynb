{
 "cells": [
  {
   "cell_type": "code",
   "execution_count": 1,
   "metadata": {},
   "outputs": [],
   "source": [
    "import os\n",
    "os.environ[\"CUDA_VISIBLE_DEVICES\"]=\"2\"\n",
    "import tensorflow as tf\n",
    "import numpy as np\n",
    "import matplotlib.pyplot as plt"
   ]
  },
  {
   "cell_type": "markdown",
   "metadata": {},
   "source": [
    "<h2>Define Hyper-parameters</h2>"
   ]
  },
  {
   "cell_type": "code",
   "execution_count": 2,
   "metadata": {},
   "outputs": [],
   "source": [
    "lr = 0.5\n",
    "NUM_ITER  = 100\n",
    "n_hidden=2\n",
    "num_input=2\n",
    "num_output=1"
   ]
  },
  {
   "cell_type": "markdown",
   "metadata": {},
   "source": [
    "<h2>Define your input data and expected labels</h2>"
   ]
  },
  {
   "cell_type": "code",
   "execution_count": 3,
   "metadata": {},
   "outputs": [],
   "source": [
    "x = np.array([[0,0],[1,0],[1,1],[0,1]],np.float32)\n",
    "y = np.array([0,1,0,1],np.float32)\n",
    "y = np.reshape(y,[4,1])\n",
    "# print(y.shape)"
   ]
  },
  {
   "cell_type": "markdown",
   "metadata": {},
   "source": [
    "<h2>Define placeholder and Variables</h2>"
   ]
  },
  {
   "cell_type": "code",
   "execution_count": 4,
   "metadata": {},
   "outputs": [],
   "source": [
    "X = tf.placeholder(tf.float32,shape=[4,2],name='X')\n",
    "Y = tf.placeholder(tf.float32,shape=[4,1],name='Y')\n",
    "\n",
    "weights = {\n",
    "    'W1': tf.Variable(tf.random_normal([num_input, n_hidden]),tf.float32,name='W1'),\n",
    "    'Wout' : tf.Variable(tf.random_normal([n_hidden,num_output]),tf.float32,name='Wout')\n",
    "}\n",
    "\n",
    "biases = {\n",
    "    'b1': tf.Variable(tf.zeros(shape=[n_hidden]),tf.float32,name='b1'),\n",
    "    'bout': tf.Variable(tf.zeros(shape=[num_output]),tf.float32,name='bout')\n",
    "}"
   ]
  },
  {
   "cell_type": "markdown",
   "metadata": {},
   "source": [
    "<h2>Define the neural network</h2>"
   ]
  },
  {
   "cell_type": "code",
   "execution_count": 5,
   "metadata": {},
   "outputs": [],
   "source": [
    "def neural_net(x):\n",
    "    layer_1_out = tf.add(tf.matmul(x,weights['W1']),biases['b1'])\n",
    "    out = tf.add(tf.matmul(layer_1_out,weights['Wout']),biases['bout'])\n",
    "    return out"
   ]
  },
  {
   "cell_type": "markdown",
   "metadata": {},
   "source": [
    "<h2>Define cost function</h2>"
   ]
  },
  {
   "cell_type": "code",
   "execution_count": 6,
   "metadata": {},
   "outputs": [],
   "source": [
    "logits = neural_net(X)\n",
    "\n",
    "\n",
    "loss = tf.reduce_sum(tf.nn.sigmoid_cross_entropy_with_logits(logits=logits,labels=Y),name='loss')\n",
    "\n",
    "optimizer = tf.train.GradientDescentOptimizer(learning_rate=lr)\n",
    "train_op = optimizer.minimize(loss)\n",
    "\n",
    "correct_pred = tf.equal(tf.argmax(logits,1),tf.argmax(Y,1))\n",
    "accuracy = tf.reduce_mean(tf.cast(correct_pred,tf.float32),name='accuracy')\n",
    "\n",
    "init = tf.global_variables_initializer()\n",
    "\n",
    "# loss_summary = tf.summary.scalar('loss',loss)\n",
    "# file_writer = tf.summary.FileWriter(logdir,tf.get_default_graph())"
   ]
  },
  {
   "cell_type": "markdown",
   "metadata": {},
   "source": [
    "<h2>Execute training</h2>"
   ]
  },
  {
   "cell_type": "code",
   "execution_count": 12,
   "metadata": {
    "scrolled": false
   },
   "outputs": [
    {
     "name": "stdout",
     "output_type": "stream",
     "text": [
      "step 0, Accuracy= 1.000\n",
      "step 10, Accuracy= 1.000\n",
      "step 20, Accuracy= 1.000\n",
      "step 30, Accuracy= 1.000\n",
      "step 40, Accuracy= 1.000\n",
      "step 50, Accuracy= 1.000\n",
      "step 60, Accuracy= 1.000\n",
      "step 70, Accuracy= 1.000\n",
      "step 80, Accuracy= 1.000\n",
      "step 90, Accuracy= 1.000\n",
      "Training finished!\n",
      "[-0.47113827 -0.09064823] 0.019833952\n"
     ]
    }
   ],
   "source": [
    "gpu_options = tf.GPUOptions(per_process_gpu_memory_fraction=0.333)  \n",
    "sess = tf.Session(config=tf.ConfigProto(gpu_options=gpu_options))  \n",
    "with tf.Session() as sess:\n",
    "    sess.run(init)\n",
    "    for i in range(100):\n",
    "        summary = sess.run(train_op,feed_dict={X:x,Y:y})\n",
    "        if i % 10 ==0:\n",
    "            acc = sess.run(accuracy,feed_dict={X:x,Y:y})\n",
    "#             W = sess.run(weights)\n",
    "            print(\"step \"+str(i)+\", Accuracy= {:.3f}\".format(acc))\n",
    "    \n",
    "    print(\"Training finished!\")\n",
    "    W = np.squeeze(sess.run(weights['Wout']))\n",
    "    b = np.squeeze(sess.run(biases['bout']))\n",
    "    print(W,b)\n",
    "#     for i in range(NUM_ITER):\n",
    "#         if i%10 == 0:\n",
    "#             #fetch the loss every 10 iterations\n",
    "#             summary = sess.run(loss_summary,feed_dict={X:x,Y:y})\n",
    "#             #add the summary to file writer\n",
    "#             file_writer.add_summary(summary,i)\n",
    "#         #every iteration we run optimization on the training data X and labels Y\n",
    "#         sess.run(train_op,feed_dict = {X:x,Y:y})\n",
    "#     for i in range(100):\n",
    "#         summary = sess.run(loss_summary,feed_dict={X:x,Y:y})\n",
    "#         if i % 10 ==0:\n",
    "#             acc = sess.run(accuracy,feed_dict={X:x,Y:y})\n",
    "#             print(\"step \"+str(i)+\", Accuracy= {:.3f}\".format(acc))\n",
    "    \n",
    "#     print(\"Training finished!\")\n",
    "    "
   ]
  },
  {
   "cell_type": "markdown",
   "metadata": {},
   "source": [
    "<h2>Plot</h2>"
   ]
  },
  {
   "cell_type": "code",
   "execution_count": 13,
   "metadata": {},
   "outputs": [
    {
     "data": {
      "image/png": "[encoded data removed]",
      "text/plain": [
       "<Figure size 432x288 with 1 Axes>"
      ]
     },
     "metadata": {
      "needs_background": "light"
     },
     "output_type": "display_data"
    }
   ],
   "source": [
    "#plot out the decision line determined by learned weight and bias\n",
    "import matplotlib.pyplot as plt\n",
    "plot_x = np.array([np.min(x[:, 0] - 0.2), np.max(x[:, 1]+0.2)])\n",
    "plot_y = 1 / W[1] * (-W[0] * plot_x - b)\n",
    "\n",
    "plt.scatter(x[:, 0], x[:, 1], c=np.squeeze(y), s=100, cmap='viridis')\n",
    "plt.plot(plot_x, plot_y, color='k', linewidth=2)\n",
    "plt.xlim([-0.2, 1.2]); plt.ylim([-0.2, 1.25]);\n",
    "plt.show()"
   ]
  },
  {
   "cell_type": "code",
   "execution_count": null,
   "metadata": {},
   "outputs": [],
   "source": []
  }
 ],
 "metadata": {
  "kernelspec": {
   "display_name": "Python 3",
   "language": "python",
   "name": "python3"
  },
  "language_info": {
   "codemirror_mode": {
    "name": "ipython",
    "version": 3
   },
   "file_extension": ".py",
   "mimetype": "text/x-python",
   "name": "python",
   "nbconvert_exporter": "python",
   "pygments_lexer": "ipython3",
   "version": "3.6.8"
  }
 },
 "nbformat": 4,
 "nbformat_minor": 2
}
